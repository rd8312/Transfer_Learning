{
 "cells": [
  {
   "cell_type": "code",
   "execution_count": 41,
   "metadata": {},
   "outputs": [],
   "source": [
    "# pictures similarity  comparison"
   ]
  },
  {
   "cell_type": "code",
   "execution_count": 1,
   "metadata": {},
   "outputs": [],
   "source": [
    "import torch\n",
    "from torchvision import models\n",
    "from torch import nn\n",
    "from torchsummary import summary\n",
    "import numpy as np"
   ]
  },
  {
   "cell_type": "code",
   "execution_count": 43,
   "metadata": {},
   "outputs": [],
   "source": [
    "# check GPU"
   ]
  },
  {
   "cell_type": "code",
   "execution_count": 2,
   "metadata": {},
   "outputs": [
    {
     "data": {
      "text/plain": [
       "'cpu'"
      ]
     },
     "execution_count": 2,
     "metadata": {},
     "output_type": "execute_result"
    }
   ],
   "source": [
    "device = torch.device(\"cuda\" if torch.cuda.is_available() else \"cpu\")\n",
    "\"cuda\" if torch.cuda.is_available() else \"cpu\""
   ]
  },
  {
   "cell_type": "code",
   "execution_count": 3,
   "metadata": {},
   "outputs": [
    {
     "name": "stderr",
     "output_type": "stream",
     "text": [
      "c:\\Users\\a4022\\anaconda3\\lib\\site-packages\\torchvision\\models\\_utils.py:208: UserWarning: The parameter 'pretrained' is deprecated since 0.13 and may be removed in the future, please use 'weights' instead.\n",
      "  warnings.warn(\n",
      "c:\\Users\\a4022\\anaconda3\\lib\\site-packages\\torchvision\\models\\_utils.py:223: UserWarning: Arguments other than a weight enum or `None` for 'weights' are deprecated since 0.13 and may be removed in the future. The current behavior is equivalent to passing `weights=VGG16_Weights.IMAGENET1K_V1`. You can also use `weights=VGG16_Weights.DEFAULT` to get the most up-to-date weights.\n",
      "  warnings.warn(msg)\n"
     ]
    },
    {
     "data": {
      "text/plain": [
       "OrderedDict([('features',\n",
       "              Sequential(\n",
       "                (0): Conv2d(3, 64, kernel_size=(3, 3), stride=(1, 1), padding=(1, 1))\n",
       "                (1): ReLU(inplace=True)\n",
       "                (2): Conv2d(64, 64, kernel_size=(3, 3), stride=(1, 1), padding=(1, 1))\n",
       "                (3): ReLU(inplace=True)\n",
       "                (4): MaxPool2d(kernel_size=2, stride=2, padding=0, dilation=1, ceil_mode=False)\n",
       "                (5): Conv2d(64, 128, kernel_size=(3, 3), stride=(1, 1), padding=(1, 1))\n",
       "                (6): ReLU(inplace=True)\n",
       "                (7): Conv2d(128, 128, kernel_size=(3, 3), stride=(1, 1), padding=(1, 1))\n",
       "                (8): ReLU(inplace=True)\n",
       "                (9): MaxPool2d(kernel_size=2, stride=2, padding=0, dilation=1, ceil_mode=False)\n",
       "                (10): Conv2d(128, 256, kernel_size=(3, 3), stride=(1, 1), padding=(1, 1))\n",
       "                (11): ReLU(inplace=True)\n",
       "                (12): Conv2d(256, 256, kernel_size=(3, 3), stride=(1, 1), padding=(1, 1))\n",
       "                (13): ReLU(inplace=True)\n",
       "                (14): Conv2d(256, 256, kernel_size=(3, 3), stride=(1, 1), padding=(1, 1))\n",
       "                (15): ReLU(inplace=True)\n",
       "                (16): MaxPool2d(kernel_size=2, stride=2, padding=0, dilation=1, ceil_mode=False)\n",
       "                (17): Conv2d(256, 512, kernel_size=(3, 3), stride=(1, 1), padding=(1, 1))\n",
       "                (18): ReLU(inplace=True)\n",
       "                (19): Conv2d(512, 512, kernel_size=(3, 3), stride=(1, 1), padding=(1, 1))\n",
       "                (20): ReLU(inplace=True)\n",
       "                (21): Conv2d(512, 512, kernel_size=(3, 3), stride=(1, 1), padding=(1, 1))\n",
       "                (22): ReLU(inplace=True)\n",
       "                (23): MaxPool2d(kernel_size=2, stride=2, padding=0, dilation=1, ceil_mode=False)\n",
       "                (24): Conv2d(512, 512, kernel_size=(3, 3), stride=(1, 1), padding=(1, 1))\n",
       "                (25): ReLU(inplace=True)\n",
       "                (26): Conv2d(512, 512, kernel_size=(3, 3), stride=(1, 1), padding=(1, 1))\n",
       "                (27): ReLU(inplace=True)\n",
       "                (28): Conv2d(512, 512, kernel_size=(3, 3), stride=(1, 1), padding=(1, 1))\n",
       "                (29): ReLU(inplace=True)\n",
       "                (30): MaxPool2d(kernel_size=2, stride=2, padding=0, dilation=1, ceil_mode=False)\n",
       "              )),\n",
       "             ('avgpool', AdaptiveAvgPool2d(output_size=(7, 7))),\n",
       "             ('classifier',\n",
       "              Sequential(\n",
       "                (0): Linear(in_features=25088, out_features=4096, bias=True)\n",
       "                (1): ReLU(inplace=True)\n",
       "                (2): Dropout(p=0.5, inplace=False)\n",
       "                (3): Linear(in_features=4096, out_features=4096, bias=True)\n",
       "                (4): ReLU(inplace=True)\n",
       "                (5): Dropout(p=0.5, inplace=False)\n",
       "                (6): Linear(in_features=4096, out_features=1000, bias=True)\n",
       "              ))])"
      ]
     },
     "execution_count": 3,
     "metadata": {},
     "output_type": "execute_result"
    }
   ],
   "source": [
    "# load VGG 16 模型\n",
    "model = models.vgg16(pretrained=True)\n",
    "model._modules"
   ]
  },
  {
   "cell_type": "code",
   "execution_count": 4,
   "metadata": {},
   "outputs": [
    {
     "data": {
      "text/plain": [
       "<bound method Module.modules of VGG(\n",
       "  (features): Sequential(\n",
       "    (0): Conv2d(3, 64, kernel_size=(3, 3), stride=(1, 1), padding=(1, 1))\n",
       "    (1): ReLU(inplace=True)\n",
       "    (2): Conv2d(64, 64, kernel_size=(3, 3), stride=(1, 1), padding=(1, 1))\n",
       "    (3): ReLU(inplace=True)\n",
       "    (4): MaxPool2d(kernel_size=2, stride=2, padding=0, dilation=1, ceil_mode=False)\n",
       "    (5): Conv2d(64, 128, kernel_size=(3, 3), stride=(1, 1), padding=(1, 1))\n",
       "    (6): ReLU(inplace=True)\n",
       "    (7): Conv2d(128, 128, kernel_size=(3, 3), stride=(1, 1), padding=(1, 1))\n",
       "    (8): ReLU(inplace=True)\n",
       "    (9): MaxPool2d(kernel_size=2, stride=2, padding=0, dilation=1, ceil_mode=False)\n",
       "    (10): Conv2d(128, 256, kernel_size=(3, 3), stride=(1, 1), padding=(1, 1))\n",
       "    (11): ReLU(inplace=True)\n",
       "    (12): Conv2d(256, 256, kernel_size=(3, 3), stride=(1, 1), padding=(1, 1))\n",
       "    (13): ReLU(inplace=True)\n",
       "    (14): Conv2d(256, 256, kernel_size=(3, 3), stride=(1, 1), padding=(1, 1))\n",
       "    (15): ReLU(inplace=True)\n",
       "    (16): MaxPool2d(kernel_size=2, stride=2, padding=0, dilation=1, ceil_mode=False)\n",
       "    (17): Conv2d(256, 512, kernel_size=(3, 3), stride=(1, 1), padding=(1, 1))\n",
       "    (18): ReLU(inplace=True)\n",
       "    (19): Conv2d(512, 512, kernel_size=(3, 3), stride=(1, 1), padding=(1, 1))\n",
       "    (20): ReLU(inplace=True)\n",
       "    (21): Conv2d(512, 512, kernel_size=(3, 3), stride=(1, 1), padding=(1, 1))\n",
       "    (22): ReLU(inplace=True)\n",
       "    (23): MaxPool2d(kernel_size=2, stride=2, padding=0, dilation=1, ceil_mode=False)\n",
       "    (24): Conv2d(512, 512, kernel_size=(3, 3), stride=(1, 1), padding=(1, 1))\n",
       "    (25): ReLU(inplace=True)\n",
       "    (26): Conv2d(512, 512, kernel_size=(3, 3), stride=(1, 1), padding=(1, 1))\n",
       "    (27): ReLU(inplace=True)\n",
       "    (28): Conv2d(512, 512, kernel_size=(3, 3), stride=(1, 1), padding=(1, 1))\n",
       "    (29): ReLU(inplace=True)\n",
       "    (30): MaxPool2d(kernel_size=2, stride=2, padding=0, dilation=1, ceil_mode=False)\n",
       "  )\n",
       "  (avgpool): AdaptiveAvgPool2d(output_size=(7, 7))\n",
       "  (classifier): Sequential(\n",
       "    (0): Linear(in_features=25088, out_features=4096, bias=True)\n",
       "    (1): ReLU(inplace=True)\n",
       "    (2): Dropout(p=0.5, inplace=False)\n",
       "    (3): Linear(in_features=4096, out_features=4096, bias=True)\n",
       "    (4): ReLU(inplace=True)\n",
       "    (5): Dropout(p=0.5, inplace=False)\n",
       "    (6): Linear(in_features=4096, out_features=1000, bias=True)\n",
       "  )\n",
       ")>"
      ]
     },
     "execution_count": 4,
     "metadata": {},
     "output_type": "execute_result"
    }
   ],
   "source": [
    "model.modules"
   ]
  },
  {
   "cell_type": "code",
   "execution_count": 5,
   "metadata": {},
   "outputs": [
    {
     "name": "stdout",
     "output_type": "stream",
     "text": [
      "<class 'method'>\n",
      "<class 'collections.OrderedDict'>\n"
     ]
    }
   ],
   "source": [
    "print(type(model.modules))\n",
    "print(type(model._modules))"
   ]
  },
  {
   "cell_type": "code",
   "execution_count": 6,
   "metadata": {},
   "outputs": [
    {
     "name": "stdout",
     "output_type": "stream",
     "text": [
      "found !!\n"
     ]
    },
    {
     "data": {
      "text/plain": [
       "OrderedDict([('pretrained', None),\n",
       "             ('net', Sequential(\n",
       "                (0): Sequential(\n",
       "                  (0): Conv2d(3, 64, kernel_size=(3, 3), stride=(1, 1), padding=(1, 1))\n",
       "                  (1): ReLU(inplace=True)\n",
       "                  (2): Conv2d(64, 64, kernel_size=(3, 3), stride=(1, 1), padding=(1, 1))\n",
       "                  (3): ReLU(inplace=True)\n",
       "                  (4): MaxPool2d(kernel_size=2, stride=2, padding=0, dilation=1, ceil_mode=False)\n",
       "                  (5): Conv2d(64, 128, kernel_size=(3, 3), stride=(1, 1), padding=(1, 1))\n",
       "                  (6): ReLU(inplace=True)\n",
       "                  (7): Conv2d(128, 128, kernel_size=(3, 3), stride=(1, 1), padding=(1, 1))\n",
       "                  (8): ReLU(inplace=True)\n",
       "                  (9): MaxPool2d(kernel_size=2, stride=2, padding=0, dilation=1, ceil_mode=False)\n",
       "                  (10): Conv2d(128, 256, kernel_size=(3, 3), stride=(1, 1), padding=(1, 1))\n",
       "                  (11): ReLU(inplace=True)\n",
       "                  (12): Conv2d(256, 256, kernel_size=(3, 3), stride=(1, 1), padding=(1, 1))\n",
       "                  (13): ReLU(inplace=True)\n",
       "                  (14): Conv2d(256, 256, kernel_size=(3, 3), stride=(1, 1), padding=(1, 1))\n",
       "                  (15): ReLU(inplace=True)\n",
       "                  (16): MaxPool2d(kernel_size=2, stride=2, padding=0, dilation=1, ceil_mode=False)\n",
       "                  (17): Conv2d(256, 512, kernel_size=(3, 3), stride=(1, 1), padding=(1, 1))\n",
       "                  (18): ReLU(inplace=True)\n",
       "                  (19): Conv2d(512, 512, kernel_size=(3, 3), stride=(1, 1), padding=(1, 1))\n",
       "                  (20): ReLU(inplace=True)\n",
       "                  (21): Conv2d(512, 512, kernel_size=(3, 3), stride=(1, 1), padding=(1, 1))\n",
       "                  (22): ReLU(inplace=True)\n",
       "                  (23): MaxPool2d(kernel_size=2, stride=2, padding=0, dilation=1, ceil_mode=False)\n",
       "                  (24): Conv2d(512, 512, kernel_size=(3, 3), stride=(1, 1), padding=(1, 1))\n",
       "                  (25): ReLU(inplace=True)\n",
       "                  (26): Conv2d(512, 512, kernel_size=(3, 3), stride=(1, 1), padding=(1, 1))\n",
       "                  (27): ReLU(inplace=True)\n",
       "                  (28): Conv2d(512, 512, kernel_size=(3, 3), stride=(1, 1), padding=(1, 1))\n",
       "                  (29): ReLU(inplace=True)\n",
       "                  (30): MaxPool2d(kernel_size=2, stride=2, padding=0, dilation=1, ceil_mode=False)\n",
       "                )\n",
       "                (1): AdaptiveAvgPool2d(output_size=(7, 7))\n",
       "              ))])"
      ]
     },
     "execution_count": 6,
     "metadata": {},
     "output_type": "execute_result"
    }
   ],
   "source": [
    "# remove nn layer after \"avgpool\" modules\n",
    "\n",
    "class new_model(nn.Module):\n",
    "    def __init__(self, pretrained, output_layer):\n",
    "        super().__init__()\n",
    "        self.output_layer = output_layer\n",
    "        self.pretrained = pretrained\n",
    "        self.children_list = []\n",
    "        \n",
    "        # get each modules\n",
    "        for n,c in self.pretrained.named_children():\n",
    "            self.children_list.append(c)\n",
    "            # find specific modules and stop\n",
    "            if n == self.output_layer:\n",
    "                print('found !!')\n",
    "                break\n",
    "\n",
    "        # build new model\n",
    "        self.net = nn.Sequential(*self.children_list)\n",
    "        self.pretrained = None\n",
    "        \n",
    "    def forward(self,x):\n",
    "        x = self.net(x)\n",
    "        return x\n",
    "    \n",
    "model = new_model(model, 'avgpool')\n",
    "model = model.to(device)   \n",
    "model._modules"
   ]
  },
  {
   "cell_type": "code",
   "execution_count": 7,
   "metadata": {},
   "outputs": [
    {
     "data": {
      "text/plain": [
       "<bound method Module.modules of new_model(\n",
       "  (pretrained): None\n",
       "  (net): Sequential(\n",
       "    (0): Sequential(\n",
       "      (0): Conv2d(3, 64, kernel_size=(3, 3), stride=(1, 1), padding=(1, 1))\n",
       "      (1): ReLU(inplace=True)\n",
       "      (2): Conv2d(64, 64, kernel_size=(3, 3), stride=(1, 1), padding=(1, 1))\n",
       "      (3): ReLU(inplace=True)\n",
       "      (4): MaxPool2d(kernel_size=2, stride=2, padding=0, dilation=1, ceil_mode=False)\n",
       "      (5): Conv2d(64, 128, kernel_size=(3, 3), stride=(1, 1), padding=(1, 1))\n",
       "      (6): ReLU(inplace=True)\n",
       "      (7): Conv2d(128, 128, kernel_size=(3, 3), stride=(1, 1), padding=(1, 1))\n",
       "      (8): ReLU(inplace=True)\n",
       "      (9): MaxPool2d(kernel_size=2, stride=2, padding=0, dilation=1, ceil_mode=False)\n",
       "      (10): Conv2d(128, 256, kernel_size=(3, 3), stride=(1, 1), padding=(1, 1))\n",
       "      (11): ReLU(inplace=True)\n",
       "      (12): Conv2d(256, 256, kernel_size=(3, 3), stride=(1, 1), padding=(1, 1))\n",
       "      (13): ReLU(inplace=True)\n",
       "      (14): Conv2d(256, 256, kernel_size=(3, 3), stride=(1, 1), padding=(1, 1))\n",
       "      (15): ReLU(inplace=True)\n",
       "      (16): MaxPool2d(kernel_size=2, stride=2, padding=0, dilation=1, ceil_mode=False)\n",
       "      (17): Conv2d(256, 512, kernel_size=(3, 3), stride=(1, 1), padding=(1, 1))\n",
       "      (18): ReLU(inplace=True)\n",
       "      (19): Conv2d(512, 512, kernel_size=(3, 3), stride=(1, 1), padding=(1, 1))\n",
       "      (20): ReLU(inplace=True)\n",
       "      (21): Conv2d(512, 512, kernel_size=(3, 3), stride=(1, 1), padding=(1, 1))\n",
       "      (22): ReLU(inplace=True)\n",
       "      (23): MaxPool2d(kernel_size=2, stride=2, padding=0, dilation=1, ceil_mode=False)\n",
       "      (24): Conv2d(512, 512, kernel_size=(3, 3), stride=(1, 1), padding=(1, 1))\n",
       "      (25): ReLU(inplace=True)\n",
       "      (26): Conv2d(512, 512, kernel_size=(3, 3), stride=(1, 1), padding=(1, 1))\n",
       "      (27): ReLU(inplace=True)\n",
       "      (28): Conv2d(512, 512, kernel_size=(3, 3), stride=(1, 1), padding=(1, 1))\n",
       "      (29): ReLU(inplace=True)\n",
       "      (30): MaxPool2d(kernel_size=2, stride=2, padding=0, dilation=1, ceil_mode=False)\n",
       "    )\n",
       "    (1): AdaptiveAvgPool2d(output_size=(7, 7))\n",
       "  )\n",
       ")>"
      ]
     },
     "execution_count": 7,
     "metadata": {},
     "output_type": "execute_result"
    }
   ],
   "source": [
    "model.modules"
   ]
  },
  {
   "cell_type": "code",
   "execution_count": 8,
   "metadata": {},
   "outputs": [
    {
     "data": {
      "text/plain": [
       "['T_destination',\n",
       " '__annotations__',\n",
       " '__call__',\n",
       " '__class__',\n",
       " '__delattr__',\n",
       " '__dict__',\n",
       " '__dir__',\n",
       " '__doc__',\n",
       " '__eq__',\n",
       " '__format__',\n",
       " '__ge__',\n",
       " '__getattr__',\n",
       " '__getattribute__',\n",
       " '__gt__',\n",
       " '__hash__',\n",
       " '__init__',\n",
       " '__init_subclass__',\n",
       " '__le__',\n",
       " '__lt__',\n",
       " '__module__',\n",
       " '__ne__',\n",
       " '__new__',\n",
       " '__reduce__',\n",
       " '__reduce_ex__',\n",
       " '__repr__',\n",
       " '__setattr__',\n",
       " '__setstate__',\n",
       " '__sizeof__',\n",
       " '__str__',\n",
       " '__subclasshook__',\n",
       " '__weakref__',\n",
       " '_apply',\n",
       " '_backward_hooks',\n",
       " '_backward_pre_hooks',\n",
       " '_buffers',\n",
       " '_call_impl',\n",
       " '_forward_hooks',\n",
       " '_forward_hooks_with_kwargs',\n",
       " '_forward_pre_hooks',\n",
       " '_forward_pre_hooks_with_kwargs',\n",
       " '_get_backward_hooks',\n",
       " '_get_backward_pre_hooks',\n",
       " '_get_name',\n",
       " '_is_full_backward_hook',\n",
       " '_load_from_state_dict',\n",
       " '_load_state_dict_post_hooks',\n",
       " '_load_state_dict_pre_hooks',\n",
       " '_maybe_warn_non_full_backward_hook',\n",
       " '_modules',\n",
       " '_named_members',\n",
       " '_non_persistent_buffers_set',\n",
       " '_parameters',\n",
       " '_register_load_state_dict_pre_hook',\n",
       " '_register_state_dict_hook',\n",
       " '_replicate_for_data_parallel',\n",
       " '_save_to_state_dict',\n",
       " '_slow_forward',\n",
       " '_state_dict_hooks',\n",
       " '_state_dict_pre_hooks',\n",
       " '_version',\n",
       " 'add_module',\n",
       " 'apply',\n",
       " 'bfloat16',\n",
       " 'buffers',\n",
       " 'call_super_init',\n",
       " 'children',\n",
       " 'children_list',\n",
       " 'cpu',\n",
       " 'cuda',\n",
       " 'double',\n",
       " 'dump_patches',\n",
       " 'eval',\n",
       " 'extra_repr',\n",
       " 'float',\n",
       " 'forward',\n",
       " 'get_buffer',\n",
       " 'get_extra_state',\n",
       " 'get_parameter',\n",
       " 'get_submodule',\n",
       " 'half',\n",
       " 'ipu',\n",
       " 'load_state_dict',\n",
       " 'modules',\n",
       " 'named_buffers',\n",
       " 'named_children',\n",
       " 'named_modules',\n",
       " 'named_parameters',\n",
       " 'net',\n",
       " 'output_layer',\n",
       " 'parameters',\n",
       " 'pretrained',\n",
       " 'register_backward_hook',\n",
       " 'register_buffer',\n",
       " 'register_forward_hook',\n",
       " 'register_forward_pre_hook',\n",
       " 'register_full_backward_hook',\n",
       " 'register_full_backward_pre_hook',\n",
       " 'register_load_state_dict_post_hook',\n",
       " 'register_module',\n",
       " 'register_parameter',\n",
       " 'register_state_dict_pre_hook',\n",
       " 'requires_grad_',\n",
       " 'set_extra_state',\n",
       " 'share_memory',\n",
       " 'state_dict',\n",
       " 'to',\n",
       " 'to_empty',\n",
       " 'train',\n",
       " 'training',\n",
       " 'type',\n",
       " 'xpu',\n",
       " 'zero_grad']"
      ]
     },
     "execution_count": 8,
     "metadata": {},
     "output_type": "execute_result"
    }
   ],
   "source": [
    "dir(model)"
   ]
  },
  {
   "cell_type": "code",
   "execution_count": 9,
   "metadata": {},
   "outputs": [
    {
     "data": {
      "text/plain": [
       "[Sequential(\n",
       "   (0): Conv2d(3, 64, kernel_size=(3, 3), stride=(1, 1), padding=(1, 1))\n",
       "   (1): ReLU(inplace=True)\n",
       "   (2): Conv2d(64, 64, kernel_size=(3, 3), stride=(1, 1), padding=(1, 1))\n",
       "   (3): ReLU(inplace=True)\n",
       "   (4): MaxPool2d(kernel_size=2, stride=2, padding=0, dilation=1, ceil_mode=False)\n",
       "   (5): Conv2d(64, 128, kernel_size=(3, 3), stride=(1, 1), padding=(1, 1))\n",
       "   (6): ReLU(inplace=True)\n",
       "   (7): Conv2d(128, 128, kernel_size=(3, 3), stride=(1, 1), padding=(1, 1))\n",
       "   (8): ReLU(inplace=True)\n",
       "   (9): MaxPool2d(kernel_size=2, stride=2, padding=0, dilation=1, ceil_mode=False)\n",
       "   (10): Conv2d(128, 256, kernel_size=(3, 3), stride=(1, 1), padding=(1, 1))\n",
       "   (11): ReLU(inplace=True)\n",
       "   (12): Conv2d(256, 256, kernel_size=(3, 3), stride=(1, 1), padding=(1, 1))\n",
       "   (13): ReLU(inplace=True)\n",
       "   (14): Conv2d(256, 256, kernel_size=(3, 3), stride=(1, 1), padding=(1, 1))\n",
       "   (15): ReLU(inplace=True)\n",
       "   (16): MaxPool2d(kernel_size=2, stride=2, padding=0, dilation=1, ceil_mode=False)\n",
       "   (17): Conv2d(256, 512, kernel_size=(3, 3), stride=(1, 1), padding=(1, 1))\n",
       "   (18): ReLU(inplace=True)\n",
       "   (19): Conv2d(512, 512, kernel_size=(3, 3), stride=(1, 1), padding=(1, 1))\n",
       "   (20): ReLU(inplace=True)\n",
       "   (21): Conv2d(512, 512, kernel_size=(3, 3), stride=(1, 1), padding=(1, 1))\n",
       "   (22): ReLU(inplace=True)\n",
       "   (23): MaxPool2d(kernel_size=2, stride=2, padding=0, dilation=1, ceil_mode=False)\n",
       "   (24): Conv2d(512, 512, kernel_size=(3, 3), stride=(1, 1), padding=(1, 1))\n",
       "   (25): ReLU(inplace=True)\n",
       "   (26): Conv2d(512, 512, kernel_size=(3, 3), stride=(1, 1), padding=(1, 1))\n",
       "   (27): ReLU(inplace=True)\n",
       "   (28): Conv2d(512, 512, kernel_size=(3, 3), stride=(1, 1), padding=(1, 1))\n",
       "   (29): ReLU(inplace=True)\n",
       "   (30): MaxPool2d(kernel_size=2, stride=2, padding=0, dilation=1, ceil_mode=False)\n",
       " ),\n",
       " AdaptiveAvgPool2d(output_size=(7, 7))]"
      ]
     },
     "execution_count": 9,
     "metadata": {},
     "output_type": "execute_result"
    }
   ],
   "source": [
    "model.children_list"
   ]
  },
  {
   "cell_type": "code",
   "execution_count": 10,
   "metadata": {},
   "outputs": [
    {
     "data": {
      "text/plain": [
       "2"
      ]
     },
     "execution_count": 10,
     "metadata": {},
     "output_type": "execute_result"
    }
   ],
   "source": [
    "len(model.children_list)"
   ]
  },
  {
   "cell_type": "code",
   "execution_count": 11,
   "metadata": {},
   "outputs": [
    {
     "data": {
      "text/plain": [
       "tensor([[[[0.0000, 0.0000, 0.0000,  ..., 0.0000, 0.0000, 0.0000],\n",
       "          [0.0000, 0.0000, 0.0000,  ..., 0.2631, 0.0000, 0.0000],\n",
       "          [0.0000, 0.0000, 0.0000,  ..., 0.0000, 0.0000, 0.0000],\n",
       "          ...,\n",
       "          [2.1441, 0.0000, 0.0000,  ..., 0.0000, 0.0000, 0.3814],\n",
       "          [1.5381, 0.0000, 0.0000,  ..., 0.0000, 2.0274, 5.3855],\n",
       "          [0.0000, 0.0000, 0.0000,  ..., 0.5574, 2.1842, 6.1950]],\n",
       "\n",
       "         [[0.0000, 0.0000, 0.0000,  ..., 0.0000, 0.3603, 0.6468],\n",
       "          [0.6322, 0.0000, 0.0000,  ..., 0.0000, 1.9587, 1.9612],\n",
       "          [2.0919, 0.3300, 0.0000,  ..., 0.0000, 0.0000, 1.4273],\n",
       "          ...,\n",
       "          [0.0000, 2.7205, 5.2899,  ..., 2.0377, 2.2244, 1.3909],\n",
       "          [0.0000, 3.1269, 3.3711,  ..., 0.4258, 1.1930, 0.6181],\n",
       "          [0.0000, 0.0000, 0.0000,  ..., 0.0000, 0.0000, 0.0000]],\n",
       "\n",
       "         [[0.0000, 0.0000, 0.0000,  ..., 0.0000, 0.0000, 0.0000],\n",
       "          [0.0000, 0.0000, 0.0000,  ..., 0.0000, 0.0000, 0.0000],\n",
       "          [0.0000, 0.0000, 2.0133,  ..., 0.0000, 0.0000, 0.0000],\n",
       "          ...,\n",
       "          [0.0000, 0.0000, 0.0000,  ..., 0.0000, 0.0000, 0.0000],\n",
       "          [0.0000, 0.0000, 0.0000,  ..., 0.0000, 0.0000, 0.0000],\n",
       "          [0.0000, 0.0000, 0.0000,  ..., 0.0000, 0.0000, 0.0000]],\n",
       "\n",
       "         ...,\n",
       "\n",
       "         [[0.0000, 0.0000, 0.0000,  ..., 0.0000, 0.0000, 0.2507],\n",
       "          [0.0000, 0.0000, 0.0000,  ..., 0.0000, 0.0000, 0.4774],\n",
       "          [4.6902, 0.0000, 0.0000,  ..., 0.0000, 0.0000, 0.0000],\n",
       "          ...,\n",
       "          [0.0000, 0.1409, 0.0000,  ..., 0.0000, 0.0000, 0.0000],\n",
       "          [0.0000, 3.3973, 1.6932,  ..., 0.0000, 0.8664, 0.0000],\n",
       "          [0.0000, 0.0000, 0.0000,  ..., 0.0000, 0.0000, 0.0000]],\n",
       "\n",
       "         [[0.0000, 0.0000, 4.3639,  ..., 0.9637, 0.4225, 0.0000],\n",
       "          [0.0000, 0.0000, 1.9948,  ..., 1.2382, 0.0000, 0.0000],\n",
       "          [0.0000, 0.0000, 0.0000,  ..., 0.9815, 2.1660, 0.9773],\n",
       "          ...,\n",
       "          [0.0000, 0.2317, 0.0000,  ..., 0.0000, 0.0000, 0.0000],\n",
       "          [0.0000, 0.5976, 0.0000,  ..., 0.0000, 0.0000, 0.0000],\n",
       "          [0.0000, 0.0000, 0.0000,  ..., 0.0000, 0.0000, 0.0000]],\n",
       "\n",
       "         [[0.0000, 0.0000, 0.0000,  ..., 0.0000, 0.0000, 0.0000],\n",
       "          [0.0000, 0.0000, 0.0000,  ..., 0.0000, 0.0000, 0.0000],\n",
       "          [0.0000, 0.0000, 0.0000,  ..., 0.0000, 0.0000, 0.0000],\n",
       "          ...,\n",
       "          [0.0000, 1.4233, 3.3402,  ..., 0.7065, 0.0000, 0.0000],\n",
       "          [0.0000, 1.8360, 2.7994,  ..., 0.3737, 1.3386, 0.8842],\n",
       "          [0.0000, 0.0000, 0.0000,  ..., 0.2212, 1.4834, 1.4088]]]])"
      ]
     },
     "execution_count": 11,
     "metadata": {},
     "output_type": "execute_result"
    }
   ],
   "source": [
    "# 任選一張圖片，例如老虎側面照，取得圖檔的特徵向量\n",
    "from PIL import Image\n",
    "from torchvision import transforms\n",
    "\n",
    "filename = './images_test/tiger2.jpg'\n",
    "input_image = Image.open(filename)\n",
    "\n",
    "transform = transforms.Compose([\n",
    "    transforms.Resize((224, 224)),\n",
    "    transforms.ToTensor(),\n",
    "    transforms.Normalize(mean=[0.485, 0.456, 0.406], \n",
    "                         std=[0.229, 0.224, 0.225])\n",
    "])\n",
    "input_tensor = transform(input_image)\n",
    "input_batch = input_tensor.unsqueeze(0).to(device) # 增加一維(筆數)\n",
    "\n",
    "# 預測\n",
    "model.eval()\n",
    "with torch.no_grad():\n",
    "    output = model(input_batch)\n",
    "output    "
   ]
  },
  {
   "cell_type": "code",
   "execution_count": 12,
   "metadata": {},
   "outputs": [
    {
     "name": "stdout",
     "output_type": "stream",
     "text": [
      "torch.Size([1, 512, 7, 7])\n"
     ]
    }
   ],
   "source": [
    "print(output.shape)"
   ]
  },
  {
   "cell_type": "code",
   "execution_count": 13,
   "metadata": {},
   "outputs": [],
   "source": [
    "# using cosine_similarity to compare eigenvector"
   ]
  },
  {
   "cell_type": "code",
   "execution_count": 14,
   "metadata": {},
   "outputs": [
    {
     "data": {
      "text/plain": [
       "array(['astronaut.jpg', 'bird.jpg', 'bird2.jpg', 'cat.jpg', 'daisy1.jpg',\n",
       "       'daisy2.jpg', 'deer.jpg', 'elephant.jpg', 'elephant2.jpg',\n",
       "       'lion1.jpg', 'lion2.jpg', 'owl.jpg', 'panda1.jpg', 'panda2.jpg',\n",
       "       'panda3.jpg', 'peacock.jpg', 'rose2.jpg', 'tiger1.jpg',\n",
       "       'tiger2.jpg', 'tiger3.jpg', 'toucan.jpg'], dtype='<U13')"
      ]
     },
     "execution_count": 14,
     "metadata": {},
     "output_type": "execute_result"
    }
   ],
   "source": [
    "## step1 : get all .jpg files in images_test folder\n",
    "from os import listdir\n",
    "from os.path import isfile, join\n",
    "\n",
    "# 取得 images_test 目錄下所有 .jpg 檔案名稱\n",
    "img_path = './images_test/'\n",
    "image_files = np.array([f for f in listdir(img_path) \n",
    "        if isfile(join(img_path, f)) and f[-3:] == 'jpg'])\n",
    "image_files"
   ]
  },
  {
   "cell_type": "code",
   "execution_count": 15,
   "metadata": {},
   "outputs": [],
   "source": [
    "## step2 : get all .jpg pixels in images_test folder\n",
    "import os\n",
    "\n",
    "# 合併所有圖檔\n",
    "model.eval()\n",
    "X = torch.tensor([])\n",
    "for filename in image_files:\n",
    "    input_image = Image.open(os.path.join(img_path, filename))\n",
    "    input_tensor = transform(input_image)\n",
    "    input_batch = input_tensor.unsqueeze(0).to(device) # 增加一維(筆數)\n",
    "    if len(X.shape) == 1:\n",
    "        # print(input_batch.shape)\n",
    "        X = input_batch\n",
    "    else:\n",
    "        # print(input_batch.shape)\n",
    "        X = torch.cat((X, input_batch), dim=0)"
   ]
  },
  {
   "cell_type": "code",
   "execution_count": 16,
   "metadata": {},
   "outputs": [
    {
     "data": {
      "text/plain": [
       "torch.Size([21, 3, 224, 224])"
      ]
     },
     "execution_count": 16,
     "metadata": {},
     "output_type": "execute_result"
    }
   ],
   "source": [
    "X.shape"
   ]
  },
  {
   "cell_type": "code",
   "execution_count": 17,
   "metadata": {},
   "outputs": [
    {
     "name": "stdout",
     "output_type": "stream",
     "text": [
      "----------------------------------------------------------------\n",
      "        Layer (type)               Output Shape         Param #\n",
      "================================================================\n",
      "            Conv2d-1         [-1, 64, 224, 224]           1,792\n",
      "              ReLU-2         [-1, 64, 224, 224]               0\n",
      "            Conv2d-3         [-1, 64, 224, 224]          36,928\n",
      "              ReLU-4         [-1, 64, 224, 224]               0\n",
      "         MaxPool2d-5         [-1, 64, 112, 112]               0\n",
      "            Conv2d-6        [-1, 128, 112, 112]          73,856\n",
      "              ReLU-7        [-1, 128, 112, 112]               0\n",
      "            Conv2d-8        [-1, 128, 112, 112]         147,584\n",
      "              ReLU-9        [-1, 128, 112, 112]               0\n",
      "        MaxPool2d-10          [-1, 128, 56, 56]               0\n",
      "           Conv2d-11          [-1, 256, 56, 56]         295,168\n",
      "             ReLU-12          [-1, 256, 56, 56]               0\n",
      "           Conv2d-13          [-1, 256, 56, 56]         590,080\n",
      "             ReLU-14          [-1, 256, 56, 56]               0\n",
      "           Conv2d-15          [-1, 256, 56, 56]         590,080\n",
      "             ReLU-16          [-1, 256, 56, 56]               0\n",
      "        MaxPool2d-17          [-1, 256, 28, 28]               0\n",
      "           Conv2d-18          [-1, 512, 28, 28]       1,180,160\n",
      "             ReLU-19          [-1, 512, 28, 28]               0\n",
      "           Conv2d-20          [-1, 512, 28, 28]       2,359,808\n",
      "             ReLU-21          [-1, 512, 28, 28]               0\n",
      "           Conv2d-22          [-1, 512, 28, 28]       2,359,808\n",
      "             ReLU-23          [-1, 512, 28, 28]               0\n",
      "        MaxPool2d-24          [-1, 512, 14, 14]               0\n",
      "           Conv2d-25          [-1, 512, 14, 14]       2,359,808\n",
      "             ReLU-26          [-1, 512, 14, 14]               0\n",
      "           Conv2d-27          [-1, 512, 14, 14]       2,359,808\n",
      "             ReLU-28          [-1, 512, 14, 14]               0\n",
      "           Conv2d-29          [-1, 512, 14, 14]       2,359,808\n",
      "             ReLU-30          [-1, 512, 14, 14]               0\n",
      "        MaxPool2d-31            [-1, 512, 7, 7]               0\n",
      "AdaptiveAvgPool2d-32            [-1, 512, 7, 7]               0\n",
      "================================================================\n",
      "Total params: 14,714,688\n",
      "Trainable params: 14,714,688\n",
      "Non-trainable params: 0\n",
      "----------------------------------------------------------------\n",
      "Input size (MB): 0.57\n",
      "Forward/backward pass size (MB): 218.59\n",
      "Params size (MB): 56.13\n",
      "Estimated Total Size (MB): 275.29\n",
      "----------------------------------------------------------------\n"
     ]
    }
   ],
   "source": [
    "summary(model, input_size=(3, 224, 224))"
   ]
  },
  {
   "cell_type": "code",
   "execution_count": 19,
   "metadata": {},
   "outputs": [
    {
     "name": "stderr",
     "output_type": "stream",
     "text": [
      "c:\\Users\\a4022\\anaconda3\\lib\\site-packages\\torchinfo\\torchinfo.py:477: UserWarning: TypedStorage is deprecated. It will be removed in the future and UntypedStorage will be the only storage class. This should only matter to you if you are using storages directly.  To access UntypedStorage directly, use tensor.untyped_storage() instead of tensor.storage()\n",
      "  action_fn=lambda data: sys.getsizeof(data.storage()),\n",
      "c:\\Users\\a4022\\anaconda3\\lib\\site-packages\\torch\\storage.py:665: UserWarning: TypedStorage is deprecated. It will be removed in the future and UntypedStorage will be the only storage class. This should only matter to you if you are using storages directly.  To access UntypedStorage directly, use tensor.untyped_storage() instead of tensor.storage()\n",
      "  return super().__sizeof__() + self.nbytes()\n"
     ]
    },
    {
     "data": {
      "text/plain": [
       "========================================================================================================================\n",
       "Layer (type:depth-idx)                   Input Shape          Output Shape         Param #              Trainable\n",
       "========================================================================================================================\n",
       "new_model                                [3, 224, 224]        [512, 7, 7]          --                   True\n",
       "├─Sequential: 1-1                        [3, 224, 224]        [512, 7, 7]          --                   True\n",
       "│    └─Sequential: 2-1                   [3, 224, 224]        [512, 7, 7]          --                   True\n",
       "│    │    └─Conv2d: 3-1                  [3, 224, 224]        [64, 224, 224]       1,792                True\n",
       "│    │    └─ReLU: 3-2                    [64, 224, 224]       [64, 224, 224]       --                   --\n",
       "│    │    └─Conv2d: 3-3                  [64, 224, 224]       [64, 224, 224]       36,928               True\n",
       "│    │    └─ReLU: 3-4                    [64, 224, 224]       [64, 224, 224]       --                   --\n",
       "│    │    └─MaxPool2d: 3-5               [64, 224, 224]       [64, 112, 112]       --                   --\n",
       "│    │    └─Conv2d: 3-6                  [64, 112, 112]       [128, 112, 112]      73,856               True\n",
       "│    │    └─ReLU: 3-7                    [128, 112, 112]      [128, 112, 112]      --                   --\n",
       "│    │    └─Conv2d: 3-8                  [128, 112, 112]      [128, 112, 112]      147,584              True\n",
       "│    │    └─ReLU: 3-9                    [128, 112, 112]      [128, 112, 112]      --                   --\n",
       "│    │    └─MaxPool2d: 3-10              [128, 112, 112]      [128, 56, 56]        --                   --\n",
       "│    │    └─Conv2d: 3-11                 [128, 56, 56]        [256, 56, 56]        295,168              True\n",
       "│    │    └─ReLU: 3-12                   [256, 56, 56]        [256, 56, 56]        --                   --\n",
       "│    │    └─Conv2d: 3-13                 [256, 56, 56]        [256, 56, 56]        590,080              True\n",
       "│    │    └─ReLU: 3-14                   [256, 56, 56]        [256, 56, 56]        --                   --\n",
       "│    │    └─Conv2d: 3-15                 [256, 56, 56]        [256, 56, 56]        590,080              True\n",
       "│    │    └─ReLU: 3-16                   [256, 56, 56]        [256, 56, 56]        --                   --\n",
       "│    │    └─MaxPool2d: 3-17              [256, 56, 56]        [256, 28, 28]        --                   --\n",
       "│    │    └─Conv2d: 3-18                 [256, 28, 28]        [512, 28, 28]        1,180,160            True\n",
       "│    │    └─ReLU: 3-19                   [512, 28, 28]        [512, 28, 28]        --                   --\n",
       "│    │    └─Conv2d: 3-20                 [512, 28, 28]        [512, 28, 28]        2,359,808            True\n",
       "│    │    └─ReLU: 3-21                   [512, 28, 28]        [512, 28, 28]        --                   --\n",
       "│    │    └─Conv2d: 3-22                 [512, 28, 28]        [512, 28, 28]        2,359,808            True\n",
       "│    │    └─ReLU: 3-23                   [512, 28, 28]        [512, 28, 28]        --                   --\n",
       "│    │    └─MaxPool2d: 3-24              [512, 28, 28]        [512, 14, 14]        --                   --\n",
       "│    │    └─Conv2d: 3-25                 [512, 14, 14]        [512, 14, 14]        2,359,808            True\n",
       "│    │    └─ReLU: 3-26                   [512, 14, 14]        [512, 14, 14]        --                   --\n",
       "│    │    └─Conv2d: 3-27                 [512, 14, 14]        [512, 14, 14]        2,359,808            True\n",
       "│    │    └─ReLU: 3-28                   [512, 14, 14]        [512, 14, 14]        --                   --\n",
       "│    │    └─Conv2d: 3-29                 [512, 14, 14]        [512, 14, 14]        2,359,808            True\n",
       "│    │    └─ReLU: 3-30                   [512, 14, 14]        [512, 14, 14]        --                   --\n",
       "│    │    └─MaxPool2d: 3-31              [512, 14, 14]        [512, 7, 7]          --                   --\n",
       "│    └─AdaptiveAvgPool2d: 2-2            [512, 7, 7]          [512, 7, 7]          --                   --\n",
       "========================================================================================================================\n",
       "Total params: 14,714,688\n",
       "Trainable params: 14,714,688\n",
       "Non-trainable params: 0\n",
       "Total mult-adds (G): 160.20\n",
       "========================================================================================================================\n",
       "Input size (MB): 0.60\n",
       "Forward/backward pass size (MB): 108.38\n",
       "Params size (MB): 58.86\n",
       "Estimated Total Size (MB): 167.84\n",
       "========================================================================================================================"
      ]
     },
     "execution_count": 19,
     "metadata": {},
     "output_type": "execute_result"
    }
   ],
   "source": [
    "from torchinfo import summary\n",
    "summary(model, input_size=(3, 224, 224), col_names=[\"input_size\", \"output_size\", \"num_params\", \"trainable\"],\n",
    "        col_width=20)"
   ]
  },
  {
   "cell_type": "code",
   "execution_count": 20,
   "metadata": {
    "scrolled": true
   },
   "outputs": [
    {
     "data": {
      "text/plain": [
       "torch.Size([21, 512, 7, 7])"
      ]
     },
     "execution_count": 20,
     "metadata": {},
     "output_type": "execute_result"
    }
   ],
   "source": [
    "# predict all pictures\n",
    "with torch.no_grad():\n",
    "    features = model(X)\n",
    "features.shape"
   ]
  },
  {
   "cell_type": "code",
   "execution_count": 25,
   "metadata": {},
   "outputs": [
    {
     "name": "stdout",
     "output_type": "stream",
     "text": [
      "tiger3.jpg\n",
      "features2 shape:  torch.Size([21, 25088])\n",
      "other_features shape:  (20, 25088)\n",
      "[0.28471893 0.27424297 0.20017293 0.13029028 0.124294   0.12173368\n",
      " 0.0922957  0.09078282 0.09055958 0.08343987 0.08006315 0.07478783\n",
      " 0.07359645 0.07357086 0.07160097 0.06039139 0.04973827 0.04559418\n",
      " 0.04373307 0.03809744]\n"
     ]
    },
    {
     "data": {
      "text/plain": [
       "array(['tiger2.jpg', 'tiger1.jpg', 'lion2.jpg', 'owl.jpg', 'peacock.jpg',\n",
       "       'panda1.jpg', 'deer.jpg', 'cat.jpg', 'lion1.jpg', 'panda2.jpg',\n",
       "       'elephant2.jpg', 'astronaut.jpg', 'elephant.jpg', 'panda3.jpg',\n",
       "       'bird.jpg', 'daisy2.jpg', 'rose2.jpg', 'toucan.jpg', 'daisy1.jpg',\n",
       "       'bird2.jpg'], dtype='<U13')"
      ]
     },
     "execution_count": 25,
     "metadata": {},
     "output_type": "execute_result"
    }
   ],
   "source": [
    "## step4 : use cosine_similarity function\n",
    "from sklearn.metrics.pairwise import cosine_similarity\n",
    "\n",
    "# comparison : Tiger2.jpg with other pictures\n",
    "no=-2\n",
    "print(image_files[no])\n",
    "\n",
    "# 轉為二維向量，類似扁平層(Flatten)\n",
    "features2 = features.cpu().reshape((features.shape[0], -1))\n",
    "print(\"features2 shape: \", features2.size())\n",
    "\n",
    "# 排除 Tiger2.jpg 的其他圖檔特徵向量\n",
    "other_features = np.concatenate((features2[:no], features2[no+1:]))\n",
    "print(\"other_features shape: \", other_features.shape)\n",
    "\n",
    "# 使用 cosine_similarity 計算 Cosine 函數\n",
    "similar_list = cosine_similarity(features2[no:no+1], other_features, \n",
    "                                 dense_output=False)\n",
    "\n",
    "# 顯示相似度，由大排到小\n",
    "print(np.sort(similar_list[0])[::-1])\n",
    "\n",
    "# 依相似度，由大排到小，顯示檔名\n",
    "image_files2 = np.delete(image_files, no)\n",
    "image_files2[np.argsort(similar_list[0])[::-1]]"
   ]
  },
  {
   "cell_type": "code",
   "execution_count": 27,
   "metadata": {},
   "outputs": [
    {
     "data": {
      "text/plain": [
       "(1, 20)"
      ]
     },
     "execution_count": 27,
     "metadata": {},
     "output_type": "execute_result"
    }
   ],
   "source": [
    "similar_list.shape"
   ]
  },
  {
   "cell_type": "code",
   "execution_count": 28,
   "metadata": {},
   "outputs": [
    {
     "name": "stdout",
     "output_type": "stream",
     "text": [
      "bird.jpg\n",
      "[0.25217512 0.2471562  0.21036279 0.17145817 0.1494664  0.14713255\n",
      " 0.14371438 0.10901471 0.09888166 0.09075938 0.08877531 0.08840889\n",
      " 0.08423284 0.07160099 0.06278276 0.06060669 0.05814058 0.05581865\n",
      " 0.05143056 0.04135138]\n"
     ]
    },
    {
     "data": {
      "text/plain": [
       "array(['toucan.jpg', 'owl.jpg', 'panda3.jpg', 'bird2.jpg', 'deer.jpg',\n",
       "       'cat.jpg', 'panda1.jpg', 'tiger2.jpg', 'lion2.jpg', 'tiger1.jpg',\n",
       "       'peacock.jpg', 'rose2.jpg', 'elephant2.jpg', 'tiger3.jpg',\n",
       "       'panda2.jpg', 'lion1.jpg', 'astronaut.jpg', 'daisy2.jpg',\n",
       "       'elephant.jpg', 'daisy1.jpg'], dtype='<U13')"
      ]
     },
     "execution_count": 28,
     "metadata": {},
     "output_type": "execute_result"
    }
   ],
   "source": [
    "# comparison：bird.jpg with other pictures\n",
    "no=1\n",
    "print(image_files[no])\n",
    "\n",
    "\n",
    "# 使用 cosine_similarity 計算 Cosine 函數\n",
    "other_features = np.concatenate((features2[:no], features2[no+1:]))\n",
    "similar_list = cosine_similarity(features2[no:no+1], other_features, \n",
    "                                 dense_output=False)\n",
    "\n",
    "# 顯示相似度，由大排到小\n",
    "print(np.sort(similar_list[0])[::-1])\n",
    "\n",
    "# 依相似度，由大排到小，顯示檔名\n",
    "image_files2 = np.delete(image_files, no)\n",
    "image_files2[np.argsort(similar_list[0])[::-1]]"
   ]
  },
  {
   "cell_type": "code",
   "execution_count": null,
   "metadata": {},
   "outputs": [],
   "source": []
  }
 ],
 "metadata": {
  "kernelspec": {
   "display_name": "Python 3",
   "language": "python",
   "name": "python3"
  },
  "language_info": {
   "codemirror_mode": {
    "name": "ipython",
    "version": 3
   },
   "file_extension": ".py",
   "mimetype": "text/x-python",
   "name": "python",
   "nbconvert_exporter": "python",
   "pygments_lexer": "ipython3",
   "version": "3.10.9"
  }
 },
 "nbformat": 4,
 "nbformat_minor": 4
}
